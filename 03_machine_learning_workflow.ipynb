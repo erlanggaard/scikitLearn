{
 "cells": [
  {
   "cell_type": "markdown",
   "id": "9c04542a",
   "metadata": {},
   "source": [
    "# Preparing Dataset"
   ]
  },
  {
   "cell_type": "markdown",
   "id": "6602bf68",
   "metadata": {},
   "source": [
    "## Load Sample Dataset : Iris Dataset"
   ]
  },
  {
   "cell_type": "code",
   "execution_count": 1,
   "id": "dee82acd",
   "metadata": {},
   "outputs": [],
   "source": [
    "from sklearn.datasets import load_iris\n",
    "\n",
    "iris = load_iris()\n",
    "\n",
    "X = iris.data\n",
    "y = iris.target"
   ]
  },
  {
   "cell_type": "markdown",
   "id": "7ec1f117",
   "metadata": {},
   "source": [
    "## Splitting Dataset: Training & Testing Set"
   ]
  },
  {
   "cell_type": "code",
   "execution_count": 3,
   "id": "f6ed927c",
   "metadata": {},
   "outputs": [],
   "source": [
    "from sklearn.model_selection import train_test_split\n",
    "\n",
    "X_train, X_test, y_train, y_test = train_test_split(X,\n",
    "                                                    y,\n",
    "                                                    test_size=0.4,\n",
    "                                                    random_state=1)"
   ]
  },
  {
   "cell_type": "markdown",
   "id": "7a8bc341",
   "metadata": {},
   "source": [
    "## Training Model\n",
    "<br>\n",
    "<li> Pada Scikit Learn, model machine learning dibentuk dari class yang dikenal dengan istilah estimator.\n",
    "<li> Setiap estimator mengimplementasikan dua method utama, yaitu fit() dan predict().\n",
    "<li> Method fit() digunakan untuk melakukan training model.\n",
    "<li> Method predict() digunakan untuk melakukan estimasi/prediksi dengan memanfaatkan trained model"
   ]
  },
  {
   "cell_type": "code",
   "execution_count": 4,
   "id": "dc232c73",
   "metadata": {},
   "outputs": [
    {
     "data": {
      "text/plain": [
       "KNeighborsClassifier(n_neighbors=3)"
      ]
     },
     "execution_count": 4,
     "metadata": {},
     "output_type": "execute_result"
    }
   ],
   "source": [
    "from sklearn.neighbors import KNeighborsClassifier\n",
    "\n",
    "model = KNeighborsClassifier(n_neighbors = 3)\n",
    "\n",
    "model.fit(X_train, y_train)"
   ]
  },
  {
   "cell_type": "markdown",
   "id": "f223fdd6",
   "metadata": {},
   "source": [
    "## Evaluasi Model"
   ]
  },
  {
   "cell_type": "code",
   "execution_count": 5,
   "id": "6f504d67",
   "metadata": {},
   "outputs": [],
   "source": [
    "from sklearn.metrics import accuracy_score"
   ]
  },
  {
   "cell_type": "code",
   "execution_count": 6,
   "id": "6827e967",
   "metadata": {},
   "outputs": [
    {
     "name": "stdout",
     "output_type": "stream",
     "text": [
      "Accuracy 0.9833333333333333\n"
     ]
    }
   ],
   "source": [
    "y_pred = model.predict(X_test)\n",
    "\n",
    "acc = accuracy_score(y_test, y_pred)\n",
    "\n",
    "print(\"Accuracy\", acc)"
   ]
  },
  {
   "cell_type": "markdown",
   "id": "016ce715",
   "metadata": {},
   "source": [
    "## Pemanfaatan Trained Model"
   ]
  },
  {
   "cell_type": "code",
   "execution_count": 8,
   "id": "5abcb607",
   "metadata": {},
   "outputs": [
    {
     "data": {
      "text/plain": [
       "array([1, 2])"
      ]
     },
     "execution_count": 8,
     "metadata": {},
     "output_type": "execute_result"
    }
   ],
   "source": [
    "new_data = [[5, 5, 3, 2],\n",
    "            [2, 4, 3, 5]]\n",
    "\n",
    "preds = model.predict(new_data)\n",
    "\n",
    "preds"
   ]
  },
  {
   "cell_type": "code",
   "execution_count": 14,
   "id": "03c884fb",
   "metadata": {},
   "outputs": [
    {
     "name": "stdout",
     "output_type": "stream",
     "text": [
      "Hasil Prediksi: ['versicolor', 'virginica']\n"
     ]
    }
   ],
   "source": [
    "pred_species = [iris.target_names[p] for p in preds]\n",
    "print('Hasil Prediksi:', pred_species)"
   ]
  },
  {
   "cell_type": "markdown",
   "id": "c4d4e68d",
   "metadata": {},
   "source": [
    "## Dumpt & Load Trained Model"
   ]
  },
  {
   "cell_type": "markdown",
   "id": "f48dbffc",
   "metadata": {},
   "source": [
    "### Dumping Model Machine Learning menjadi file joblib"
   ]
  },
  {
   "cell_type": "code",
   "execution_count": 15,
   "id": "3fcae176",
   "metadata": {},
   "outputs": [
    {
     "data": {
      "text/plain": [
       "['iris_knn.joblib']"
      ]
     },
     "execution_count": 15,
     "metadata": {},
     "output_type": "execute_result"
    }
   ],
   "source": [
    "import joblib\n",
    "\n",
    "joblib.dump(model, \"iris_knn.joblib\")"
   ]
  },
  {
   "cell_type": "markdown",
   "id": "666fb716",
   "metadata": {},
   "source": [
    "### Loading Model Machine Learning dari file joblib"
   ]
  },
  {
   "cell_type": "code",
   "execution_count": 16,
   "id": "89fb659e",
   "metadata": {},
   "outputs": [],
   "source": [
    "production_model = joblib.load(\"iris_knn.joblib\")"
   ]
  },
  {
   "cell_type": "code",
   "execution_count": null,
   "id": "ba2e5a62",
   "metadata": {},
   "outputs": [],
   "source": []
  }
 ],
 "metadata": {
  "hide_input": false,
  "kernelspec": {
   "display_name": "Python 3 (ipykernel)",
   "language": "python",
   "name": "python3"
  },
  "language_info": {
   "codemirror_mode": {
    "name": "ipython",
    "version": 3
   },
   "file_extension": ".py",
   "mimetype": "text/x-python",
   "name": "python",
   "nbconvert_exporter": "python",
   "pygments_lexer": "ipython3",
   "version": "3.9.12"
  }
 },
 "nbformat": 4,
 "nbformat_minor": 5
}
